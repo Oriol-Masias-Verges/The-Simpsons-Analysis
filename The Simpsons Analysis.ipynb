{
 "cells": [
  {
   "cell_type": "markdown",
   "id": "15c2a6f9",
   "metadata": {},
   "source": [
    "# <center> Oriol Masias Vergés </center>\n",
    "# <center> Analyzing The Simpsons Episodes & Ratings with Python and Sqlite3 </center>"
   ]
  },
  {
   "cell_type": "markdown",
   "id": "3d7a5a00",
   "metadata": {},
   "source": [
    "To enhance my **proficiency in data analytics**, I have undertaken an exciting project centered around the Simpsons Episodes & Ratings dataset. In today's **data-driven world**, the ability to comprehend and extract meaningful insights from datasets is essential for making well-informed decisions and deriving valuable **business intelligence**. \n",
    "\n",
    "**The Simpsons Episodes & Ratings dataset** is a comprehensive collection of information about episodes from the beloved animated television show \"The Simpsons.\" This dataset consists of **three CSV documents** that provide valuable insights into the series, including episode details, air dates, titles, production codes, and IMDb ratings."
   ]
  },
  {
   "cell_type": "markdown",
   "id": "cfb487fc",
   "metadata": {},
   "source": [
    "## Characters CSV\n",
    "\n",
    "- **id:** Unique identifier for each character.\n",
    "- **name:** The name of the character.\n",
    "- **normalized_name:** The normalized form of the caracter's name.\n",
    "- **gender:** The gender of hte character.\n",
    "\n",
    "## Episodes CSV\n",
    "\n",
    "- **id:** Unique identifier for each episode.\n",
    "- **title:** The title of the episode.\n",
    "- **description:** A brief description or summary of the episode's plot.\n",
    "- **original_air_date:** The original air date when the episode was first broadcasted.\n",
    "- **production_code:** A code assigned to the episode during production for identification purposes.\n",
    "- **directed_by:** The name of the director of the episode.\n",
    "- **written_by:** The name of the writer responsible for the episode's script.\n",
    "- **season:** The season number to which the episode belongs.\n",
    "- **number_in_season:** The episode's sequential number within its respective season.\n",
    "- **number_in_series:** The episode's sequential number in the overall series.\n",
    "- **us_viewers_in_millions:** The estimated number of viewers (in millions) who watched the episode during its initial broadcast in the United States.\n",
    "- **imdb_rating:** The IMDb rating given to the episode, representing its popularity and viewer appreciation.\n",
    "\n",
    "## Scores CSV\n",
    "\n",
    "- **season:** The season number.\n",
    "- **rt_critic_score:** The critic score given to the season, expressed as a percentage.\n",
    "- **rt_user_score:** The user score given to the season, expressed as a percentage.\n",
    "- **rt_critic_count:** The number of critic reviews contributing to the critic score.\n",
    "- **rt_user_count:** The number of user reviews contributing to the user score."
   ]
  },
  {
   "cell_type": "code",
   "execution_count": 1,
   "id": "a6721a34",
   "metadata": {},
   "outputs": [],
   "source": [
    "# Import libreries\n",
    "import sqlite3\n",
    "from pathlib import Path\n",
    "import pandas as pd"
   ]
  },
  {
   "cell_type": "code",
   "execution_count": 2,
   "id": "72812ddd",
   "metadata": {},
   "outputs": [],
   "source": [
    "# Create empty database\n",
    "Path(\"simpsons.db\").touch()"
   ]
  },
  {
   "cell_type": "code",
   "execution_count": 3,
   "id": "fc1ad0f5",
   "metadata": {},
   "outputs": [],
   "source": [
    "# Connect to database\n",
    "conn = sqlite3.connect(\"simpsons.db\")\n",
    "c = conn.cursor()"
   ]
  },
  {
   "cell_type": "code",
   "execution_count": 4,
   "id": "d80a8219",
   "metadata": {},
   "outputs": [
    {
     "data": {
      "text/plain": [
       "<sqlite3.Cursor at 0x114f63940>"
      ]
     },
     "execution_count": 4,
     "metadata": {},
     "output_type": "execute_result"
    }
   ],
   "source": [
    "# Drop table if exists\n",
    "c.execute(\"\"\"DROP TABLE IF EXISTS characters;\"\"\")\n",
    "c.execute(\"\"\"DROP TABLE IF EXISTS episodes;\"\"\")\n",
    "c.execute(\"\"\"DROP TABLE IF EXISTS scores;\"\"\")\n",
    "\n",
    "# Create table characters\n",
    "c.execute(\"\"\"CREATE TABLE characters\n",
    "    (\n",
    "    id int,\n",
    "    name text,\n",
    "    normalized_name text,\n",
    "    gender text\n",
    "    );\"\"\")\n",
    "\n",
    "# Create table episodes\n",
    "c.execute(\"\"\"CREATE TABLE episodes\n",
    "    (\n",
    "    id int,\n",
    "    title text,\n",
    "    description text,\n",
    "    original_air_date date,\n",
    "    production_code text,\n",
    "    directed_by text,\n",
    "    written_by text,\n",
    "    season int,\n",
    "    number_in_season int,\n",
    "    number_in_series int,\n",
    "    us_viewers_in_millions int,\n",
    "    imdb_rating int\n",
    "    );\"\"\")\n",
    "\n",
    "# Create table scores\n",
    "c.execute(\"\"\"CREATE TABLE scores\n",
    "    (\n",
    "    season int,\n",
    "    rt_critic_score int,\n",
    "    rt_user_score int,\n",
    "    rt_critic_count int,\n",
    "    rt_user_count int\n",
    "    );\"\"\")"
   ]
  },
  {
   "cell_type": "code",
   "execution_count": 5,
   "id": "84fbbbee",
   "metadata": {},
   "outputs": [
    {
     "data": {
      "text/plain": [
       "34"
      ]
     },
     "execution_count": 5,
     "metadata": {},
     "output_type": "execute_result"
    }
   ],
   "source": [
    "# Open csv files\n",
    "characters = pd.read_csv(\"simpsons_characters.csv\")\n",
    "episodes = pd.read_csv(\"simpsons_episodes.csv\")\n",
    "scores = pd.read_csv(\"simpsons_rt_scores.csv\")\n",
    "\n",
    "# Add tables to database\n",
    "characters.to_sql(\"characters\", conn, if_exists=\"append\", index=False)\n",
    "episodes.to_sql(\"episodes\", conn, if_exists=\"append\", index=False)\n",
    "scores.to_sql(\"scores\", conn, if_exists=\"append\", index=False)"
   ]
  },
  {
   "cell_type": "code",
   "execution_count": 6,
   "id": "c3de5d98",
   "metadata": {},
   "outputs": [],
   "source": [
    "# Create a function to print results\n",
    "def print_rows(rows, table_columns):\n",
    "    for row in rows:\n",
    "        for i, column_value in enumerate(row):\n",
    "            print(f\"{table_columns[i]}:\", column_value)\n",
    "        print(\"---------------\")\n",
    "\n",
    "\n",
    "characters_columns = [\"id\", \"name\", \"normalized_name\", \"gender\"]\n",
    "episodes_columns = [\"id\", \"title\", \"description\", \"original_air_date\", \"production_code\", \"directed_by\",\n",
    "                    \"written_by\", \"season\", \"number_in_season\", \"number_in_series\", \"us_viewers_in_millions\",\n",
    "                    \"imdb_rating\"]\n",
    "scores_columns = [\"season\", \"rt_critic_score\", \"rt_user_score\", \"rt_critic_count\", \"rt_user_count\"]"
   ]
  },
  {
   "cell_type": "code",
   "execution_count": 7,
   "id": "4f76811d",
   "metadata": {
    "scrolled": true
   },
   "outputs": [
    {
     "name": "stdout",
     "output_type": "stream",
     "text": [
      "id: 7\n",
      "name: Children\n",
      "normalized_name: children\n",
      "gender: None\n",
      "---------------\n",
      "id: 12\n",
      "name: Mechanical Santa\n",
      "normalized_name: mechanical santa\n",
      "gender: None\n",
      "---------------\n",
      "id: 13\n",
      "name: Tattoo Man\n",
      "normalized_name: tattoo man\n",
      "gender: None\n",
      "---------------\n",
      "id: 16\n",
      "name: DOCTOR ZITSOFSKY\n",
      "normalized_name: doctor zitsofsky\n",
      "gender: None\n",
      "---------------\n",
      "id: 20\n",
      "name: Students\n",
      "normalized_name: students\n",
      "gender: None\n",
      "---------------\n"
     ]
    }
   ],
   "source": [
    "# Display 10 rows of the table characters\n",
    "rows = c.execute(\"\"\"SELECT * FROM characters;\"\"\").fetchmany(5)\n",
    "print_rows(rows, characters_columns)"
   ]
  },
  {
   "cell_type": "code",
   "execution_count": 8,
   "id": "8f9fce11",
   "metadata": {
    "scrolled": true
   },
   "outputs": [
    {
     "name": "stdout",
     "output_type": "stream",
     "text": [
      "id: 0\n",
      "title: Simpsons Roasting on an Open Fire\n",
      "description: Homer is forced to become a department store Santa when Marge spends the family's Christmas savings on removing Bart's tattoo.    \n",
      "original_air_date: 1989-12-17\n",
      "production_code: 7G08\n",
      "directed_by: David Silverman\n",
      "written_by: Mimi Pond\n",
      "season: 1\n",
      "number_in_season: 1\n",
      "number_in_series: 1\n",
      "us_viewers_in_millions: 26.7\n",
      "imdb_rating: 8.1\n",
      "---------------\n",
      "id: 1\n",
      "title: Bart the Genius\n",
      "description: Bart ends up at a school for gifted children after cheating on an IQ test.    \n",
      "original_air_date: 1990-01-14\n",
      "production_code: 7G02\n",
      "directed_by: David Silverman\n",
      "written_by: Jon Vitti\n",
      "season: 1\n",
      "number_in_season: 2\n",
      "number_in_series: 2\n",
      "us_viewers_in_millions: 24.5\n",
      "imdb_rating: 7.7\n",
      "---------------\n",
      "id: 2\n",
      "title: Homer's Odyssey\n",
      "description: After losing his job, Homer contemplates ending it all, until he discovers a new life path as a safety advocate.    \n",
      "original_air_date: 1990-01-21\n",
      "production_code: 7G03\n",
      "directed_by: Wes Archer\n",
      "written_by: Jay Kogen & Wallace Wolodarsky\n",
      "season: 1\n",
      "number_in_season: 3\n",
      "number_in_series: 3\n",
      "us_viewers_in_millions: 27.5\n",
      "imdb_rating: 7.3\n",
      "---------------\n",
      "id: 3\n",
      "title: There's No Disgrace Like Home\n",
      "description: After being embarrassed by the rest of the family at a company picnic, Homer becomes obsessed with improving their behavior towards each other.    \n",
      "original_air_date: 1990-01-28\n",
      "production_code: 7G04\n",
      "directed_by: Gregg Vanzo & Kent Butterworth\n",
      "written_by: Al Jean & Mike Reiss\n",
      "season: 1\n",
      "number_in_season: 4\n",
      "number_in_series: 4\n",
      "us_viewers_in_millions: 20.2\n",
      "imdb_rating: 7.7\n",
      "---------------\n",
      "id: 4\n",
      "title: Bart the General\n",
      "description: After being beaten up by Nelson Muntz one too many times, Bart turns to Grampa for help, and soon leads a rebellion against the school bully.    \n",
      "original_air_date: 1990-02-04\n",
      "production_code: 7G05\n",
      "directed_by: David Silverman\n",
      "written_by: John Swartzwelder\n",
      "season: 1\n",
      "number_in_season: 5\n",
      "number_in_series: 5\n",
      "us_viewers_in_millions: 27.1\n",
      "imdb_rating: 7.9\n",
      "---------------\n"
     ]
    }
   ],
   "source": [
    "# Display 10 rows of the table episodes\n",
    "rows = c.execute(\"\"\"SELECT * FROM episodes;\"\"\").fetchmany(5)\n",
    "print_rows(rows, episodes_columns)"
   ]
  },
  {
   "cell_type": "code",
   "execution_count": 9,
   "id": "e8bb0c3c",
   "metadata": {
    "scrolled": true
   },
   "outputs": [
    {
     "name": "stdout",
     "output_type": "stream",
     "text": [
      "season: 1\n",
      "rt_critic_score: 100%\n",
      "rt_user_score: 87%\n",
      "rt_critic_count: 18\n",
      "rt_user_count: 366\n",
      "---------------\n",
      "season: 2\n",
      "rt_critic_score: 100%\n",
      "rt_user_score: 93%\n",
      "rt_critic_count: 8\n",
      "rt_user_count: 257\n",
      "---------------\n",
      "season: 3\n",
      "rt_critic_score: 100%\n",
      "rt_user_score: 94%\n",
      "rt_critic_count: 5\n",
      "rt_user_count: 242\n",
      "---------------\n",
      "season: 4\n",
      "rt_critic_score: 100%\n",
      "rt_user_score: 94%\n",
      "rt_critic_count: 11\n",
      "rt_user_count: 234\n",
      "---------------\n",
      "season: 5\n",
      "rt_critic_score: 100%\n",
      "rt_user_score: 95%\n",
      "rt_critic_count: 5\n",
      "rt_user_count: 233\n",
      "---------------\n"
     ]
    }
   ],
   "source": [
    "# Display 10 rows of the table scores\n",
    "rows = c.execute(\"\"\"SELECT * FROM scores;\"\"\").fetchmany(5)\n",
    "print_rows(rows, scores_columns)"
   ]
  },
  {
   "cell_type": "code",
   "execution_count": 10,
   "id": "254e6560",
   "metadata": {
    "scrolled": true
   },
   "outputs": [
    {
     "data": {
      "text/plain": [
       "[(1, 7.7),\n",
       " (2, 7.99),\n",
       " (3, 8.15),\n",
       " (4, 8.26),\n",
       " (5, 8.33),\n",
       " (6, 8.33),\n",
       " (7, 8.35),\n",
       " (8, 8.21),\n",
       " (9, 7.8),\n",
       " (10, 7.57),\n",
       " (11, 7.28),\n",
       " (12, 7.32),\n",
       " (13, 7.07),\n",
       " (14, 7.02),\n",
       " (15, 6.99),\n",
       " (16, 6.97),\n",
       " (17, 6.82),\n",
       " (18, 6.9),\n",
       " (19, 6.86),\n",
       " (20, 6.86),\n",
       " (21, 6.77),\n",
       " (22, 6.7),\n",
       " (23, 6.71),\n",
       " (24, 6.67),\n",
       " (25, 6.73),\n",
       " (26, 6.57),\n",
       " (27, 6.61),\n",
       " (28, 6.42),\n",
       " (29, 6.61),\n",
       " (30, 6.22),\n",
       " (31, 6.37),\n",
       " (32, 6.43),\n",
       " (33, 6.6),\n",
       " (34, 6.55)]"
      ]
     },
     "execution_count": 10,
     "metadata": {},
     "output_type": "execute_result"
    }
   ],
   "source": [
    "# What is the average IMDB rating of each season?\n",
    "c.execute(\"\"\"SELECT season, ROUND(AVG(imdb_rating),2)\n",
    "                FROM episodes\n",
    "                GROUP BY season\"\"\").fetchall()"
   ]
  },
  {
   "cell_type": "code",
   "execution_count": 11,
   "id": "a534e88a",
   "metadata": {
    "scrolled": true
   },
   "outputs": [
    {
     "name": "stdout",
     "output_type": "stream",
     "text": [
      "season: 1\n",
      "number_in_season: 12\n",
      "title: Krusty Gets Busted\n",
      "imdb_rating: 8.3\n",
      "---------------\n",
      "season: 2\n",
      "number_in_season: 11\n",
      "title: One Fish, Two Fish, Blowfish, Blue Fish\n",
      "imdb_rating: 8.8\n",
      "---------------\n",
      "season: 3\n",
      "number_in_season: 10\n",
      "title: Flaming Moe's\n",
      "imdb_rating: 8.8\n",
      "---------------\n",
      "season: 4\n",
      "number_in_season: 12\n",
      "title: Marge vs. the Monorail\n",
      "imdb_rating: 9.1\n",
      "---------------\n",
      "season: 5\n",
      "number_in_season: 2\n",
      "title: Cape Feare\n",
      "imdb_rating: 9.2\n",
      "---------------\n",
      "season: 6\n",
      "number_in_season: 6\n",
      "title: Treehouse of Horror V\n",
      "imdb_rating: 9.2\n",
      "---------------\n",
      "season: 7\n",
      "number_in_season: 1\n",
      "title: Who Shot Mr. Burns? - Part II\n",
      "imdb_rating: 9\n",
      "---------------\n",
      "season: 8\n",
      "number_in_season: 23\n",
      "title: Homer's Enemy\n",
      "imdb_rating: 9.3\n",
      "---------------\n",
      "season: 9\n",
      "number_in_season: 1\n",
      "title: The City of New York vs. Homer Simpson\n",
      "imdb_rating: 9\n",
      "---------------\n",
      "season: 10\n",
      "number_in_season: 2\n",
      "title: The Wizard of Evergreen Terrace\n",
      "imdb_rating: 8.1\n",
      "---------------\n",
      "season: 11\n",
      "number_in_season: 22\n",
      "title: Behind the Laughter\n",
      "imdb_rating: 7.9\n",
      "---------------\n",
      "season: 12\n",
      "number_in_season: 18\n",
      "title: Trilogy of Error\n",
      "imdb_rating: 8.6\n",
      "---------------\n",
      "season: 13\n",
      "number_in_season: 22\n",
      "title: Poppa's Got a Brand New Badge\n",
      "imdb_rating: 7.8\n",
      "---------------\n",
      "season: 14\n",
      "number_in_season: 1\n",
      "title: Treehouse of Horror XIII\n",
      "imdb_rating: 7.6\n",
      "---------------\n",
      "season: 15\n",
      "number_in_season: 1\n",
      "title: Treehouse of Horror XIV\n",
      "imdb_rating: 7.5\n",
      "---------------\n",
      "season: 16\n",
      "number_in_season: 16\n",
      "title: Don't Fear the Roofer\n",
      "imdb_rating: 7.5\n",
      "---------------\n",
      "season: 17\n",
      "number_in_season: 13\n",
      "title: The Seemingly Never-Ending Story\n",
      "imdb_rating: 7.6\n",
      "---------------\n",
      "season: 18\n",
      "number_in_season: 21\n",
      "title: 24 Minutes\n",
      "imdb_rating: 8.1\n",
      "---------------\n",
      "season: 19\n",
      "number_in_season: 9\n",
      "title: Eternal Moonshine of the Simpson Mind\n",
      "imdb_rating: 8.2\n",
      "---------------\n",
      "season: 20\n",
      "number_in_season: 1\n",
      "title: Sex, Pies and Idiot Scrapes\n",
      "imdb_rating: 7.2\n",
      "---------------\n",
      "season: 21\n",
      "number_in_season: 4\n",
      "title: Treehouse of Horror XX\n",
      "imdb_rating: 7.3\n",
      "---------------\n",
      "season: 22\n",
      "number_in_season: 21\n",
      "title: 500 Keys\n",
      "imdb_rating: 7.3\n",
      "---------------\n",
      "season: 23\n",
      "number_in_season: 9\n",
      "title: Holidays of Future Passed\n",
      "imdb_rating: 8.3\n",
      "---------------\n",
      "season: 24\n",
      "number_in_season: 2\n",
      "title: Treehouse of Horror XXIII\n",
      "imdb_rating: 7.2\n",
      "---------------\n",
      "season: 25\n",
      "number_in_season: 20\n",
      "title: Brick Like Me\n",
      "imdb_rating: 7.9\n",
      "---------------\n",
      "season: 26\n",
      "number_in_season: 6\n",
      "title: Simpsorama\n",
      "imdb_rating: 7.9\n",
      "---------------\n",
      "season: 27\n",
      "number_in_season: 9\n",
      "title: Barthood\n",
      "imdb_rating: 8.4\n",
      "---------------\n",
      "season: 28\n",
      "number_in_season: 3\n",
      "title: The Town\n",
      "imdb_rating: 7\n",
      "---------------\n",
      "season: 29\n",
      "number_in_season: 21\n",
      "title: Flanders' Ladder\n",
      "imdb_rating: 7.6\n",
      "---------------\n",
      "season: 30\n",
      "number_in_season: 5\n",
      "title: Baby You Can't Drive My Car\n",
      "imdb_rating: 7\n",
      "---------------\n",
      "season: 31\n",
      "number_in_season: 8\n",
      "title: Thanksgiving of Horror\n",
      "imdb_rating: 7.3\n",
      "---------------\n",
      "season: 32\n",
      "number_in_season: 22\n",
      "title: The Last Barfighter\n",
      "imdb_rating: 7.4\n",
      "---------------\n",
      "season: 33\n",
      "number_in_season: 67\n",
      "title: A Serious Flanders\" (Parts 1 & 2) \n",
      "imdb_rating: 8.2\n",
      "---------------\n",
      "season: 34\n",
      "number_in_season: 6\n",
      "title: Treehouse of Horror XXXIII\n",
      "imdb_rating: 8.3\n",
      "---------------\n"
     ]
    }
   ],
   "source": [
    "# Which episode has the highest IMDb rating per season?\n",
    "answer1=c.execute(\"\"\"SELECT season, number_in_season, title, MAX(imdb_rating)\n",
    "                FROM episodes\n",
    "                GROUP BY season\"\"\").fetchall()\n",
    "\n",
    "columns = [\"season\", \"number_in_season\", \"title\", \"imdb_rating\"]\n",
    "print_rows(answer1, columns)"
   ]
  },
  {
   "cell_type": "code",
   "execution_count": 12,
   "id": "6a565c41",
   "metadata": {},
   "outputs": [
    {
     "data": {
      "text/plain": [
       "235"
      ]
     },
     "execution_count": 12,
     "metadata": {},
     "output_type": "execute_result"
    }
   ],
   "source": [
    "# How many episodes were aired before the year 2000?\n",
    "c.execute(\"\"\"SELECT COUNT(title)\n",
    "                FROM episodes\n",
    "                WHERE original_air_date < \"2000-01-01\";\"\"\").fetchone()[0]"
   ]
  },
  {
   "cell_type": "code",
   "execution_count": 13,
   "id": "06673b0c",
   "metadata": {},
   "outputs": [
    {
     "name": "stdout",
     "output_type": "stream",
     "text": [
      "Male: 3.748884260636715\n",
      "Female: 1.0562332639095506\n",
      "Nulls: 95.19488247545374\n",
      "---------------\n"
     ]
    }
   ],
   "source": [
    "# Calculate the percentage of male and female characters.\n",
    "answer2=c.execute(\"\"\"SELECT \n",
    "                (SELECT COUNT(*) FROM characters WHERE gender = 'm') * 100.0 / COUNT(*) AS percentage_male,\n",
    "                (SELECT COUNT(*) FROM characters WHERE gender = 'f') * 100.0 / COUNT(*) AS percentage_female,\n",
    "                (SELECT COUNT(*) FROM characters WHERE gender IS NULL) * 100.0 / COUNT(*) AS percentage_female\n",
    "            FROM characters\"\"\").fetchall()\n",
    "\n",
    "columns = [\"Male\", \"Female\", \"Nulls\"]\n",
    "print_rows(answer2, columns)"
   ]
  }
 ],
 "metadata": {
  "kernelspec": {
   "display_name": "Python 3 (ipykernel)",
   "language": "python",
   "name": "python3"
  },
  "language_info": {
   "codemirror_mode": {
    "name": "ipython",
    "version": 3
   },
   "file_extension": ".py",
   "mimetype": "text/x-python",
   "name": "python",
   "nbconvert_exporter": "python",
   "pygments_lexer": "ipython3",
   "version": "3.10.11"
  }
 },
 "nbformat": 4,
 "nbformat_minor": 5
}
